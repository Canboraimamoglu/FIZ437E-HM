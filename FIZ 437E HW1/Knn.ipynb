{
 "cells": [
  {
   "cell_type": "code",
   "execution_count": 80,
   "metadata": {},
   "outputs": [],
   "source": [
    "import numpy as np\n",
    "import os \n",
    "import cv2 as cv\n",
    "#import matplotlib.pyplot as plt\n",
    "\n",
    "\n",
    "source1 = \"C:\\FIZ 437E HW1\\car\"\n",
    "destination1 = \"C:\\FIZ 437E HW1\\car_labelled\"\n",
    "\n",
    "source2 = \"C:/FIZ 437E HW1/aircraft\"\n",
    "destination2 = \"C:/FIZ 437E HW1/aircraft_labelled\"\n",
    "\n",
    "airplane_vectors=[]\n",
    "for f in os.listdir(destination2):\n",
    "    filename=os.path.join(destination2,f)\n",
    "    image = cv.imread(filename)\n",
    "    numpydata = np.asarray(image)\n",
    "    data = np.ravel(numpydata)\n",
    "    airplane_vectors.append(data)\n",
    "    image = cv.imwrite(filename,image)\n",
    "airplane_vectors=np.asarray(airplane_vectors)\n",
    "\n",
    "car_vectors=[]\n",
    "for f in os.listdir(destination1):\n",
    "    filename=os.path.join(destination1,f)\n",
    "    image = cv.imread(filename)\n",
    "    numpydata = np.asarray(image)\n",
    "    data = np.ravel(numpydata)\n",
    "    car_vectors.append(data)\n",
    "    image = cv.imwrite(filename,image)    \n",
    "car_vectors=np.asarray(car_vectors)\n",
    "\n",
    "airplane_vectors_train=np.array(airplane_vectors[:450])\n",
    "airplane_vectors_test=np.array(airplane_vectors[-50:])\n",
    "\n",
    "car_vectors_train=np.array(car_vectors[:450])\n",
    "car_vectors_test=np.array(car_vectors[-50:])\n",
    "\n",
    "test=np.array(car_vectors_test+airplane_vectors_test,dtype=None)\n",
    "train=np.array(car_vectors+airplane_vectors,dtype=None)\n",
    "\n",
    "dataset=np.array(car_vectors+airplane_vectors)"
   ]
  },
  {
   "cell_type": "code",
   "execution_count": 81,
   "metadata": {},
   "outputs": [],
   "source": [
    "def euclidean_distance(vector1, vector2):\n",
    "    sum_sq = np.sum(np.square(vector1 - vector2))\n",
    "    return(np.sqrt(sum_sq))"
   ]
  },
  {
   "cell_type": "code",
   "execution_count": 85,
   "metadata": {},
   "outputs": [],
   "source": [
    "def Get_Neighbors(train, test, k):\n",
    "    distance = list() # []\n",
    "    data = []\n",
    "    for i in train:\n",
    "        dist = euclidean_distance(test, i)\n",
    "        distance.append(dist)\n",
    "        data.append(i)\n",
    "    distance = np.array(distance)\n",
    "    data = np.array(data)\n",
    "    \"\"\" we are finding index of min distance \"\"\"\n",
    "    index_dist = distance.argsort()\n",
    "    \"\"\" we arange our data acco. to index \"\"\"\n",
    "    data=data[index_dist]\n",
    "    \"\"\" we are slicing num number of datas \"\"\"\n",
    "    neighbors = data[:k]\n",
    "    \n",
    "    return neighbors"
   ]
  },
  {
   "cell_type": "code",
   "execution_count": 112,
   "metadata": {},
   "outputs": [],
   "source": [
    " def predict_classification(train, test, k):\n",
    "    Neighbors = Get_Neighbors(train, test, k)\n",
    "    Classes = []\n",
    "    for i in Neighbors:\n",
    "        Classes.append(i[-1])\n",
    "    prediction = max(Classes, key= Classes.count)\n",
    "    accuracy = (prediction/len(Neighbors))*100\n",
    "    return accuracy"
   ]
  },
  {
   "cell_type": "code",
   "execution_count": 113,
   "metadata": {},
   "outputs": [],
   "source": [
    "def accuracy(pred , test):\n",
    "    count = 0\n",
    "    for i in range(len(test)):\n",
    "        if pred[i] == test[i]:\n",
    "            count +=1\n",
    "            \n",
    "    return print(\"Accuracy =\", (count/len(pred))*100, \"%\")   \n"
   ]
  },
  {
   "cell_type": "code",
   "execution_count": 115,
   "metadata": {},
   "outputs": [
    {
     "name": "stdout",
     "output_type": "stream",
     "text": [
      "<class 'numpy.float64'>\n",
      "7333.333333333333\n"
     ]
    }
   ],
   "source": [
    "distances=[]\n",
    "for i in range(50):\n",
    "    for j in range(450):    \n",
    "        distance=find_distance(test[i],train[j])\n",
    "print (distances)\n",
    "\n",
    "k=3\n",
    "prediction=find_label(distances,k)\n",
    "accuracies=accuracy(prediction,test)  \n",
    "    \n"
   ]
  },
  {
   "cell_type": "code",
   "execution_count": null,
   "metadata": {},
   "outputs": [],
   "source": []
  },
  {
   "cell_type": "code",
   "execution_count": null,
   "metadata": {},
   "outputs": [],
   "source": []
  }
 ],
 "metadata": {
  "kernelspec": {
   "display_name": "Python 3.10.6 ('venv': venv)",
   "language": "python",
   "name": "python3"
  },
  "language_info": {
   "codemirror_mode": {
    "name": "ipython",
    "version": 3
   },
   "file_extension": ".py",
   "mimetype": "text/x-python",
   "name": "python",
   "nbconvert_exporter": "python",
   "pygments_lexer": "ipython3",
   "version": "3.10.6"
  },
  "orig_nbformat": 4,
  "vscode": {
   "interpreter": {
    "hash": "086dd67c905ba90a50d856bd88f84dce6792a10bdc9ed0b4b6cadab011ba1619"
   }
  }
 },
 "nbformat": 4,
 "nbformat_minor": 2
}
