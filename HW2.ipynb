{
  "nbformat": 4,
  "nbformat_minor": 0,
  "metadata": {
    "colab": {
      "provenance": [],
      "collapsed_sections": [],
      "mount_file_id": "1vHwntNgRxkeSTxXdTn3BNw73jdsyRsjn",
      "authorship_tag": "ABX9TyNvSWINOIiAx0AxNEKYSbsi",
      "include_colab_link": true
    },
    "kernelspec": {
      "name": "python3",
      "display_name": "Python 3"
    },
    "language_info": {
      "name": "python"
    }
  },
  "cells": [
    {
      "cell_type": "markdown",
      "metadata": {
        "id": "view-in-github",
        "colab_type": "text"
      },
      "source": [
        "<a href=\"https://colab.research.google.com/github/Canboraimamoglu/FIZ437E-HM/blob/main/HW2.ipynb\" target=\"_parent\"><img src=\"https://colab.research.google.com/assets/colab-badge.svg\" alt=\"Open In Colab\"/></a>"
      ]
    },
    {
      "cell_type": "code",
      "execution_count": 1,
      "metadata": {
        "id": "thZ9Cj9eMs-F"
      },
      "outputs": [],
      "source": [
        "import numpy as np\n",
        "import os \n",
        "import cv2 as cv\n",
        "import matplotlib.pyplot as plt\n",
        "\n",
        "\n",
        "#using image as data in my google drive in google colab. For this, images are prepared for processing\n",
        "\n",
        "destination1 = \"drive/MyDrive/car_labelled\"\n",
        "destination2 = \"drive/MyDrive/aircraft_labelled\"\n",
        "\n",
        "\n",
        "airplane_vectors=[]\n",
        "for f in os.listdir(destination2):\n",
        "    filename=os.path.join(destination2,f)\n",
        "    image = cv.imread(filename)\n",
        "    numpydata = np.asarray(image)\n",
        "    data = np.ravel(numpydata)\n",
        "    airplane_vectors.append(data)\n",
        "    image = cv.imwrite(filename,image)\n",
        "airplane_vectors=np.asarray(airplane_vectors)\n",
        "\n",
        "car_vectors=[]\n",
        "for f in os.listdir(destination1):\n",
        "    filename=os.path.join(destination1,f)\n",
        "    image = cv.imread(filename)\n",
        "    numpydata = np.asarray(image)\n",
        "    data = np.ravel(numpydata)\n",
        "    car_vectors.append(data)\n",
        "    image = cv.imwrite(filename,image)    \n",
        "car_vectors=np.asarray(car_vectors)\n",
        "\n",
        "\n",
        "X=airplane_vectors+car_vectors\n",
        "X=np.array(X)\n",
        "Y_airplane=[ 1 for i in range(250)]\n",
        "Y_cars=[0 for i in range(250)]\n",
        "Y=Y_airplane+Y_cars\n",
        "Y=np.array(Y)\n",
        "\n"
      ]
    },
    {
      "cell_type": "code",
      "metadata": {
        "id": "x7sKawRDPd4m"
      },
      "source": [
        "#firstly created support vector machine class\n",
        "class SVM():\n",
        "\n",
        "\n",
        "  # initiating the hyperparameters\n",
        "  def __init__(self, learning_rate, no_of_iterations, lambda_parameter):\n",
        "\n",
        "    self.learning_rate = learning_rate\n",
        "    self.no_of_iterations = no_of_iterations\n",
        "    self.lambda_parameter = lambda_parameter\n",
        "\n",
        "\n",
        "  \n",
        "  # fitting the dataset to SVM Classifier\n",
        "  def fit(self, X, Y):\n",
        "\n",
        "    # m  --> number of Data points --> number of rows\n",
        "    # n  --> number of input features --> number of columns\n",
        "    self.m, self.n = X.shape\n",
        "\n",
        "    # initiating the weight value and bias value\n",
        "\n",
        "    self.w = np.zeros(self.n)\n",
        "\n",
        "    self.b = 0\n",
        "\n",
        "    self.X = X\n",
        "\n",
        "    self.Y = Y\n",
        "\n",
        "    # implementing Gradient Descent algorithm for Optimization\n",
        "\n",
        "    for i in range(self.no_of_iterations):\n",
        "      self.update_weights()\n",
        "\n",
        "\n",
        "\n",
        "  # function for updating the weight and bias value\n",
        "  def update_weights(self):\n",
        "\n",
        "    # label encoding\n",
        "    y_label = np.where(self.Y <= 0, -1, 1)\n",
        "\n",
        "\n",
        "\n",
        "    # gradients ( dw, db)\n",
        "    for index, x_i in enumerate(self.X):\n",
        "\n",
        "      condition = y_label[index] * (np.dot(x_i, self.w) - self.b) >= 1\n",
        "\n",
        "      if (condition == True):\n",
        "\n",
        "        dw = 2 * self.lambda_parameter * self.w\n",
        "        db = 0\n",
        "\n",
        "      else:\n",
        "\n",
        "        dw = 2 * self.lambda_parameter * self.w - np.dot(x_i, y_label[index])\n",
        "        db = y_label[index]\n",
        "\n",
        "\n",
        "      self.w = self.w - self.learning_rate * dw\n",
        "\n",
        "      self.b = self.b - self.learning_rate * db\n",
        "\n",
        "\n",
        "\n",
        "  # predict the label for a given input value\n",
        "  def predict(self, X):\n",
        "\n",
        "    output = np.dot(X, self.w) - self.b\n",
        "    \n",
        "    predicted_labels = np.sign(output)\n",
        "\n",
        "    y_hat = np.where(predicted_labels <= -1, 0, 1)\n",
        "\n",
        "    return y_hat  \n",
        "\n"
      ],
      "execution_count": 2,
      "outputs": []
    },
    {
      "cell_type": "code",
      "source": [
        "from google.colab import drive\n",
        "drive.mount('/content/drive')"
      ],
      "metadata": {
        "colab": {
          "base_uri": "https://localhost:8080/"
        },
        "id": "PO9M9g-D4aLy",
        "outputId": "4bca1dfd-5cb2-4c1b-d614-ba5cd6eba375"
      },
      "execution_count": null,
      "outputs": [
        {
          "output_type": "stream",
          "name": "stdout",
          "text": [
            "Drive already mounted at /content/drive; to attempt to forcibly remount, call drive.mount(\"/content/drive\", force_remount=True).\n"
          ]
        }
      ]
    },
    {
      "cell_type": "code",
      "source": [
        "class logistic():\n",
        "  def __init__(self,X,Y):\n",
        "    self.X=X\n",
        "    self.Y=Y\n",
        "       \n",
        "  def normalize(self,X):\n",
        "    '''\n",
        "    function to normalize feature matrix, X\n",
        "    '''\n",
        "    mins = np.min(X, axis = 0)\n",
        "    maxs = np.max(X, axis = 0)\n",
        "    rng = maxs - mins\n",
        "    norm_X = 1 - ((maxs - X)/rng)\n",
        "    return norm_X\n",
        " \n",
        " \n",
        "  def logistic_func(self,beta, X):\n",
        "    '''\n",
        "    logistic(sigmoid) function\n",
        "    '''\n",
        "    return 1.0/(1 + np.exp(-np.dot(X, beta.T)))\n",
        " \n",
        " \n",
        "  def log_gradient(self,beta, X, Y):\n",
        "    '''\n",
        "    logistic gradient function\n",
        "    '''\n",
        "    first_calc = self.logistic_func(beta, X) - Y.reshape(X.shape[0], -1)\n",
        "    final_calc = np.dot(first_calc.T, X)\n",
        "    return final_calc\n",
        " \n",
        " \n",
        "  def cost_func(self,beta, X, Y):\n",
        "    '''\n",
        "    cost function, J\n",
        "    '''\n",
        "    log_func_v = self.logistic_func(beta, X)\n",
        "    y = np.squeeze(Y)\n",
        "    step1 = y * np.log(log_func_v)\n",
        "    step2 = (1 - y) * np.log(1 - log_func_v)\n",
        "    final = -step1 - step2\n",
        "    return np.mean(final)\n",
        " \n",
        " \n",
        "  def grad_desc(self,X, Y, beta, lr=.01, converge_change=.001):\n",
        "    '''\n",
        "    gradient descent function\n",
        "    '''\n",
        "    cost = self.cost_func(beta, X, Y)\n",
        "    change_cost = 1\n",
        "    num_iter = 1\n",
        "     \n",
        "    while(change_cost > converge_change):\n",
        "        old_cost = cost\n",
        "        beta = beta - (lr * self.log_gradient(beta, X, Y))\n",
        "        cost = self.cost_func(beta, X, Y)\n",
        "        change_cost = old_cost - cost\n",
        "        num_iter += 1\n",
        "     \n",
        "    return beta, num_iter\n",
        " \n",
        " \n",
        "  def pred_values(self,beta, X):\n",
        "    '''\n",
        "    function to predict labels\n",
        "    '''\n",
        "    pred_prob = self.logistic_func(beta, X)\n",
        "    pred_value = np.where(pred_prob >= .5, 1, 0)\n",
        "    return np.squeeze(pred_value)"
      ],
      "metadata": {
        "id": "sq7pTA6V_AWd"
      },
      "execution_count": 22,
      "outputs": []
    },
    {
      "cell_type": "code",
      "source": [
        "class NeuronLayer():\n",
        "    def __init__(self, number_of_neurons, number_of_inputs_per_neuron):\n",
        "        self.synaptic_weights = 2 * random.random((number_of_inputs_per_neuron, number_of_neurons)) - 1\n",
        "\n",
        "\n",
        "class NeuralNetwork():\n",
        "    def __init__(self, layer1, layer2):\n",
        "        self.layer1 = layer1\n",
        "        self.layer2 = layer2\n",
        "\n",
        "    # The Sigmoid function, which describes an S shaped curve.\n",
        "    # We pass the weighted sum of the inputs through this function to\n",
        "    # normalise them between 0 and 1.\n",
        "    def __sigmoid(self, x):\n",
        "        return 1 / (1 + exp(-x))\n",
        "\n",
        "    # The derivative of the Sigmoid function.\n",
        "    # This is the gradient of the Sigmoid curve.\n",
        "    # It indicates how confident we are about the existing weight.\n",
        "    def __sigmoid_derivative(self, x):\n",
        "        return x * (1 - x)\n",
        "\n",
        "    # We train the neural network through a process of trial and error.\n",
        "    # Adjusting the synaptic weights each time.\n",
        "    def train(self, training_set_inputs, training_set_outputs, number_of_training_iterations):\n",
        "        for iteration in range(number_of_training_iterations):\n",
        "            # Pass the training set through our neural network\n",
        "            output_from_layer_1, output_from_layer_2 = self.think(training_set_inputs)\n",
        "\n",
        "            # Calculate the error for layer 2 (The difference between the desired output\n",
        "            # and the predicted output).\n",
        "            layer2_error = training_set_outputs - output_from_layer_2\n",
        "            layer2_delta = layer2_error * self.__sigmoid_derivative(output_from_layer_2)\n",
        "\n",
        "            # Calculate the error for layer 1 (By looking at the weights in layer 1,\n",
        "            # we can determine by how much layer 1 contributed to the error in layer 2).\n",
        "            layer1_error = layer2_delta.dot(self.layer2.synaptic_weights.T)\n",
        "            layer1_delta = layer1_error * self.__sigmoid_derivative(output_from_layer_1)\n",
        "\n",
        "            # Calculate how much to adjust the weights by\n",
        "            layer1_adjustment = training_set_inputs.T.dot(layer1_delta)\n",
        "            layer2_adjustment = output_from_layer_1.T.dot(layer2_delta)\n",
        "\n",
        "            # Adjust the weights.\n",
        "            self.layer1.synaptic_weights += layer1_adjustment\n",
        "            self.layer2.synaptic_weights += layer2_adjustment\n",
        "\n",
        "    # The neural network thinks.\n",
        "    def think(self, inputs):\n",
        "        output_from_layer1 = self.__sigmoid(dot(inputs, self.layer1.synaptic_weights))\n",
        "        output_from_layer2 = self.__sigmoid(dot(output_from_layer1, self.layer2.synaptic_weights))\n",
        "        return output_from_layer1, output_from_layer2\n",
        "\n",
        "    # The neural network prints its weights\n",
        "    def print_weights(self):\n",
        "        print(\"    Layer 1 (4 neurons, each with 3 inputs):\")\n",
        "        print(self.layer1.synaptic_weights)\n",
        "        print(\"    Layer 2 (1 neuron, with 4 inputs):\")\n",
        "        print(self.layer2.synaptic_weights)"
      ],
      "metadata": {
        "id": "hvOOCoxdQkbT"
      },
      "execution_count": 4,
      "outputs": []
    },
    {
      "cell_type": "code",
      "source": [
        "from sklearn.model_selection import train_test_split\n",
        "X_train, X_test, Y_train, Y_test = train_test_split(X,Y, test_size=0.1, random_state = 2)"
      ],
      "metadata": {
        "id": "PNo5E01Cp1x_"
      },
      "execution_count": 5,
      "outputs": []
    },
    {
      "cell_type": "code",
      "source": [
        "SVM_classifier=SVM(learning_rate=0.001, no_of_iterations=1000, lambda_parameter=0.01)"
      ],
      "metadata": {
        "id": "UrCTQr88u-FM"
      },
      "execution_count": 12,
      "outputs": []
    },
    {
      "cell_type": "code",
      "source": [
        "# training the SVM classifier with training data\n",
        "SVM_classifier.fit(X_train, Y_train)"
      ],
      "metadata": {
        "id": "XuHpWDWsJG_c"
      },
      "execution_count": 13,
      "outputs": []
    },
    {
      "cell_type": "code",
      "source": [
        "#find accuracy\n",
        "def accuracy_metric(actual, predicted):\n",
        "\tcorrect = 0\n",
        "\tfor i in range(len(actual)):\n",
        "\t\tif actual[i] == predicted[i]:\n",
        "\t\t\tcorrect += 1\n",
        "\treturn correct / float(len(actual)) * 100.0"
      ],
      "metadata": {
        "id": "r4JLJEcUJWUf"
      },
      "execution_count": 14,
      "outputs": []
    },
    {
      "cell_type": "code",
      "source": [
        "#support vector machine train accuracy\n",
        "X_train_prediction = SVM_classifier.predict(X_train)\n",
        "training_data_accuracy = accuracy_metric(Y_train, X_train_prediction)\n",
        "print('Accuracy score on training data = ', training_data_accuracy)"
      ],
      "metadata": {
        "colab": {
          "base_uri": "https://localhost:8080/"
        },
        "id": "TAq2IylnKlLb",
        "outputId": "e6f50a53-6c1e-4ad2-acc0-574295962a88"
      },
      "execution_count": 17,
      "outputs": [
        {
          "output_type": "stream",
          "name": "stdout",
          "text": [
            "Accuracy score on training data =  83.55555555555556\n"
          ]
        }
      ]
    },
    {
      "cell_type": "code",
      "source": [
        "#support vector machine test accuracy\n",
        "X_test_prediction = SVM_classifier.predict(X_test)\n",
        "test_data_accuracy = accuracy_metric(Y_test, X_test_prediction)\n",
        "print('Accuracy score on test data = ', test_data_accuracy)"
      ],
      "metadata": {
        "colab": {
          "base_uri": "https://localhost:8080/"
        },
        "id": "0nTY4nYtK_kj",
        "outputId": "f936def2-66de-4185-aa87-9d722c32dfdf"
      },
      "execution_count": 19,
      "outputs": [
        {
          "output_type": "stream",
          "name": "stdout",
          "text": [
            "Accuracy score on test data =  60.0\n"
          ]
        }
      ]
    },
    {
      "cell_type": "code",
      "source": [
        "from numpy import exp, array, random, dot\n",
        "random.seed(1)\n",
        "\n",
        "    # Create layer 1 (4 neurons, each with 3 inputs)\n",
        "layer1 = NeuronLayer(4, 3)\n",
        "\n",
        "    # Create layer 2 (a single neuron with 4 inputs)\n",
        "layer2 = NeuronLayer(1, 4)\n",
        "\n",
        "    # Combine the layers to create a neural network\n",
        "neural_network = NeuralNetwork(layer1, layer2)\n",
        "\n",
        "print(\"Stage 1) Random starting synaptic weights: \")\n",
        "neural_network.print_weights()\n",
        "\n",
        "\n",
        "training_set_inputs = X_train\n",
        "training_set_outputs = Y_train\n",
        "\n",
        "    # Train the neural network using the training set.\n",
        "neural_network.train(training_set_inputs, training_set_outputs, 10000)\n",
        "\n",
        "print(\"Stage 2) New synaptic weights after training: \")\n",
        "neural_network.print_weights()\n",
        "\n",
        "    # Test the neural network with a new situation.\n",
        "print(\"Stage 3) Considering a new situation [1, 1, 0] -> ?: \")\n",
        "hidden_state, output = neural_network.think(array([1, 1, 0]))\n",
        "print(output)"
      ],
      "metadata": {
        "colab": {
          "base_uri": "https://localhost:8080/",
          "height": 588
        },
        "id": "xrRgRzKgLHYE",
        "outputId": "9632ad54-7940-4361-ddbd-a92fd2893dfc"
      },
      "execution_count": 24,
      "outputs": [
        {
          "output_type": "stream",
          "name": "stdout",
          "text": [
            "Stage 1) Random starting synaptic weights: \n",
            "    Layer 1 (4 neurons, each with 3 inputs):\n",
            "[[-0.16595599  0.44064899 -0.99977125 -0.39533485]\n",
            " [-0.70648822 -0.81532281 -0.62747958 -0.30887855]\n",
            " [-0.20646505  0.07763347 -0.16161097  0.370439  ]]\n",
            "    Layer 2 (1 neuron, with 4 inputs):\n",
            "[[-0.5910955 ]\n",
            " [ 0.75623487]\n",
            " [-0.94522481]\n",
            " [ 0.34093502]]\n"
          ]
        },
        {
          "output_type": "error",
          "ename": "ValueError",
          "evalue": "ignored",
          "traceback": [
            "\u001b[0;31m---------------------------------------------------------------------------\u001b[0m",
            "\u001b[0;31mValueError\u001b[0m                                Traceback (most recent call last)",
            "\u001b[0;32m<ipython-input-24-0a5761890069>\u001b[0m in \u001b[0;36m<module>\u001b[0;34m\u001b[0m\n\u001b[1;32m     19\u001b[0m \u001b[0;34m\u001b[0m\u001b[0m\n\u001b[1;32m     20\u001b[0m     \u001b[0;31m# Train the neural network using the training set.\u001b[0m\u001b[0;34m\u001b[0m\u001b[0;34m\u001b[0m\u001b[0;34m\u001b[0m\u001b[0m\n\u001b[0;32m---> 21\u001b[0;31m \u001b[0mneural_network\u001b[0m\u001b[0;34m.\u001b[0m\u001b[0mtrain\u001b[0m\u001b[0;34m(\u001b[0m\u001b[0mtraining_set_inputs\u001b[0m\u001b[0;34m,\u001b[0m \u001b[0mtraining_set_outputs\u001b[0m\u001b[0;34m,\u001b[0m \u001b[0;36m10000\u001b[0m\u001b[0;34m)\u001b[0m\u001b[0;34m\u001b[0m\u001b[0;34m\u001b[0m\u001b[0m\n\u001b[0m\u001b[1;32m     22\u001b[0m \u001b[0;34m\u001b[0m\u001b[0m\n\u001b[1;32m     23\u001b[0m \u001b[0mprint\u001b[0m\u001b[0;34m(\u001b[0m\u001b[0;34m\"Stage 2) New synaptic weights after training: \"\u001b[0m\u001b[0;34m)\u001b[0m\u001b[0;34m\u001b[0m\u001b[0;34m\u001b[0m\u001b[0m\n",
            "\u001b[0;32m<ipython-input-4-68a9eedbeb53>\u001b[0m in \u001b[0;36mtrain\u001b[0;34m(self, training_set_inputs, training_set_outputs, number_of_training_iterations)\u001b[0m\n\u001b[1;32m     26\u001b[0m         \u001b[0;32mfor\u001b[0m \u001b[0miteration\u001b[0m \u001b[0;32min\u001b[0m \u001b[0mrange\u001b[0m\u001b[0;34m(\u001b[0m\u001b[0mnumber_of_training_iterations\u001b[0m\u001b[0;34m)\u001b[0m\u001b[0;34m:\u001b[0m\u001b[0;34m\u001b[0m\u001b[0;34m\u001b[0m\u001b[0m\n\u001b[1;32m     27\u001b[0m             \u001b[0;31m# Pass the training set through our neural network\u001b[0m\u001b[0;34m\u001b[0m\u001b[0;34m\u001b[0m\u001b[0;34m\u001b[0m\u001b[0m\n\u001b[0;32m---> 28\u001b[0;31m             \u001b[0moutput_from_layer_1\u001b[0m\u001b[0;34m,\u001b[0m \u001b[0moutput_from_layer_2\u001b[0m \u001b[0;34m=\u001b[0m \u001b[0mself\u001b[0m\u001b[0;34m.\u001b[0m\u001b[0mthink\u001b[0m\u001b[0;34m(\u001b[0m\u001b[0mtraining_set_inputs\u001b[0m\u001b[0;34m)\u001b[0m\u001b[0;34m\u001b[0m\u001b[0;34m\u001b[0m\u001b[0m\n\u001b[0m\u001b[1;32m     29\u001b[0m \u001b[0;34m\u001b[0m\u001b[0m\n\u001b[1;32m     30\u001b[0m             \u001b[0;31m# Calculate the error for layer 2 (The difference between the desired output\u001b[0m\u001b[0;34m\u001b[0m\u001b[0;34m\u001b[0m\u001b[0;34m\u001b[0m\u001b[0m\n",
            "\u001b[0;32m<ipython-input-4-68a9eedbeb53>\u001b[0m in \u001b[0;36mthink\u001b[0;34m(self, inputs)\u001b[0m\n\u001b[1;32m     48\u001b[0m     \u001b[0;31m# The neural network thinks.\u001b[0m\u001b[0;34m\u001b[0m\u001b[0;34m\u001b[0m\u001b[0;34m\u001b[0m\u001b[0m\n\u001b[1;32m     49\u001b[0m     \u001b[0;32mdef\u001b[0m \u001b[0mthink\u001b[0m\u001b[0;34m(\u001b[0m\u001b[0mself\u001b[0m\u001b[0;34m,\u001b[0m \u001b[0minputs\u001b[0m\u001b[0;34m)\u001b[0m\u001b[0;34m:\u001b[0m\u001b[0;34m\u001b[0m\u001b[0;34m\u001b[0m\u001b[0m\n\u001b[0;32m---> 50\u001b[0;31m         \u001b[0moutput_from_layer1\u001b[0m \u001b[0;34m=\u001b[0m \u001b[0mself\u001b[0m\u001b[0;34m.\u001b[0m\u001b[0m__sigmoid\u001b[0m\u001b[0;34m(\u001b[0m\u001b[0mdot\u001b[0m\u001b[0;34m(\u001b[0m\u001b[0minputs\u001b[0m\u001b[0;34m,\u001b[0m \u001b[0mself\u001b[0m\u001b[0;34m.\u001b[0m\u001b[0mlayer1\u001b[0m\u001b[0;34m.\u001b[0m\u001b[0msynaptic_weights\u001b[0m\u001b[0;34m)\u001b[0m\u001b[0;34m)\u001b[0m\u001b[0;34m\u001b[0m\u001b[0;34m\u001b[0m\u001b[0m\n\u001b[0m\u001b[1;32m     51\u001b[0m         \u001b[0moutput_from_layer2\u001b[0m \u001b[0;34m=\u001b[0m \u001b[0mself\u001b[0m\u001b[0;34m.\u001b[0m\u001b[0m__sigmoid\u001b[0m\u001b[0;34m(\u001b[0m\u001b[0mdot\u001b[0m\u001b[0;34m(\u001b[0m\u001b[0moutput_from_layer1\u001b[0m\u001b[0;34m,\u001b[0m \u001b[0mself\u001b[0m\u001b[0;34m.\u001b[0m\u001b[0mlayer2\u001b[0m\u001b[0;34m.\u001b[0m\u001b[0msynaptic_weights\u001b[0m\u001b[0;34m)\u001b[0m\u001b[0;34m)\u001b[0m\u001b[0;34m\u001b[0m\u001b[0;34m\u001b[0m\u001b[0m\n\u001b[1;32m     52\u001b[0m         \u001b[0;32mreturn\u001b[0m \u001b[0moutput_from_layer1\u001b[0m\u001b[0;34m,\u001b[0m \u001b[0moutput_from_layer2\u001b[0m\u001b[0;34m\u001b[0m\u001b[0;34m\u001b[0m\u001b[0m\n",
            "\u001b[0;32m<__array_function__ internals>\u001b[0m in \u001b[0;36mdot\u001b[0;34m(*args, **kwargs)\u001b[0m\n",
            "\u001b[0;31mValueError\u001b[0m: shapes (450,30000) and (3,4) not aligned: 30000 (dim 1) != 3 (dim 0)"
          ]
        }
      ]
    },
    {
      "cell_type": "code",
      "source": [
        "    #prediction of logistic regression\n",
        "import numpy as np\n",
        "beta = np.matrix(np.zeros(X.shape[1]))\n",
        " \n",
        "# beta values after running gradient descent\n",
        "beta, num_iter = grad_desc(X_train, Y_train, beta)\n",
        " \n",
        "    # estimated beta values and number of iterations\n",
        "print(\"Estimated regression coefficients:\", beta)\n",
        "print(\"No. of iterations:\", num_iter)\n",
        " \n",
        "    # predicted labels\n",
        "y_pred = pred_values(beta, X_train)\n",
        "     \n",
        "    # number of correctly predicted labels\n",
        "print(\"Correctly predicted labels:\", np.sum(y == y_pred))"
      ],
      "metadata": {
        "colab": {
          "base_uri": "https://localhost:8080/",
          "height": 235
        },
        "id": "fw3_aU06MWpB",
        "outputId": "1d03a184-d415-4ed0-fdff-a3eee49b3392"
      },
      "execution_count": 23,
      "outputs": [
        {
          "output_type": "error",
          "ename": "NameError",
          "evalue": "ignored",
          "traceback": [
            "\u001b[0;31m---------------------------------------------------------------------------\u001b[0m",
            "\u001b[0;31mNameError\u001b[0m                                 Traceback (most recent call last)",
            "\u001b[0;32m<ipython-input-23-b4343031b33d>\u001b[0m in \u001b[0;36m<module>\u001b[0;34m\u001b[0m\n\u001b[1;32m      4\u001b[0m \u001b[0;34m\u001b[0m\u001b[0m\n\u001b[1;32m      5\u001b[0m \u001b[0;31m# beta values after running gradient descent\u001b[0m\u001b[0;34m\u001b[0m\u001b[0;34m\u001b[0m\u001b[0;34m\u001b[0m\u001b[0m\n\u001b[0;32m----> 6\u001b[0;31m \u001b[0mbeta\u001b[0m\u001b[0;34m,\u001b[0m \u001b[0mnum_iter\u001b[0m \u001b[0;34m=\u001b[0m \u001b[0mgrad_desc\u001b[0m\u001b[0;34m(\u001b[0m\u001b[0mX_train\u001b[0m\u001b[0;34m,\u001b[0m \u001b[0mY_train\u001b[0m\u001b[0;34m,\u001b[0m \u001b[0mbeta\u001b[0m\u001b[0;34m)\u001b[0m\u001b[0;34m\u001b[0m\u001b[0;34m\u001b[0m\u001b[0m\n\u001b[0m\u001b[1;32m      7\u001b[0m \u001b[0;34m\u001b[0m\u001b[0m\n\u001b[1;32m      8\u001b[0m \u001b[0;31m# estimated beta values and number of iterations\u001b[0m\u001b[0;34m\u001b[0m\u001b[0;34m\u001b[0m\u001b[0;34m\u001b[0m\u001b[0m\n",
            "\u001b[0;31mNameError\u001b[0m: name 'grad_desc' is not defined"
          ]
        }
      ]
    }
  ]
}